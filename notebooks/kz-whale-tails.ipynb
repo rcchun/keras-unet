{
 "cells": [
  {
   "cell_type": "code",
   "execution_count": null,
   "metadata": {
    "ExecuteTime": {
     "end_time": "2019-04-25T02:15:20.288131Z",
     "start_time": "2019-04-25T02:15:18.947132Z"
    }
   },
   "outputs": [],
   "source": [
    "import numpy as np\n",
    "import matplotlib.pyplot as plt\n",
    "%matplotlib inline\n",
    "import glob\n",
    "import os\n",
    "import sys\n",
    "from PIL import Image"
   ]
  },
  {
   "cell_type": "markdown",
   "metadata": {},
   "source": [
    "## Load data"
   ]
  },
  {
   "cell_type": "code",
   "execution_count": null,
   "metadata": {},
   "outputs": [],
   "source": [
    "from libtiff import TIFF\n",
    "# to open a tiff file for reading:\n",
    "tif = TIFF.open('../input/seg/test/' + '35811095.tif', mode='r')\n",
    "\n",
    "# to read an image in the currect TIFF directory and return it as numpy array:\n",
    "image = tif.read_image()"
   ]
  },
  {
   "cell_type": "code",
   "execution_count": null,
   "metadata": {},
   "outputs": [],
   "source": [
    "def get_patch(img_arr, size, stride):\n",
    "    \n",
    "    patches_list = []\n",
    "    overlapping = 0\n",
    "\n",
    "    ind_1 = image.shape[0] // size\n",
    "    ind_2 = image.shape[1] // size\n",
    "    k = 0\n",
    "    l = 0\n",
    "    for i in range(ind_1+1):\n",
    "        \n",
    "        for j in range(ind_2+1):\n",
    "            print(i, ind_1, j, ind_2)\n",
    "            if (i == ind_1) and (j != ind_2):\n",
    "                \n",
    "                pat = 255 * np.ones((size-(image.shape[0] - ind_1*size), size, 3))\n",
    "                pat = np.asarray(pat, dtype=np.uint8)\n",
    "                img_ = np.concatenate((image[ind_1 * size : image.shape[0], k * size : k * size +stride], pat), axis=0)\n",
    "                patches_list.append(img_)\n",
    "                k +=1\n",
    "\n",
    "            elif (j == ind_2) and (i != ind_1):\n",
    "        \n",
    "                pat2 = 255 * np.ones((size, size-(image.shape[1] - ind_2*size), 3))\n",
    "                pat2 = np.asarray(pat2, dtype=np.uint8)\n",
    "                img_2 = np.concatenate((image[l * size : l * size +stride, ind_2 * size : image.shape[1]], pat2), axis =1)\n",
    "                patches_list.append(img_2)\n",
    "                l +=1\n",
    "\n",
    "            elif (i == ind_1) and (j == ind_2):\n",
    "                \n",
    "                pat3 = 255 * np.ones((image.shape[0] - ind_1*size, size-(image.shape[1] - ind_2*size), 3))\n",
    "                pat3 = np.asarray(pat3, dtype=np.uint8)\n",
    "                img_3 = np.concatenate((image[ind_1 * size : image.shape[0], ind_2 * size : image.shape[1]], pat3), axis =1)\n",
    "                pat4 = 255 * np.ones((size-(image.shape[0] - ind_1*size), size, 3))\n",
    "                pat4 = np.asarray(pat4, dtype=np.uint8)\n",
    "                img_4 = np.concatenate((img_3, pat4), axis =0)\n",
    "                patches_list.append(img_4)\n",
    "                \n",
    "            else:\n",
    "                patches_list.append(\n",
    "                    img_arr[\n",
    "                        i * stride : i * stride + size,\n",
    "                        j * stride : j * stride + size\n",
    "                    ]\n",
    "                )\n",
    "            \n",
    "                        \n",
    "    return np.stack(patches_list)"
   ]
  },
  {
   "cell_type": "code",
   "execution_count": null,
   "metadata": {},
   "outputs": [],
   "source": [
    "x_crops = get_patch(img_arr=image, size=1024, stride=1024) "
   ]
  },
  {
   "cell_type": "code",
   "execution_count": null,
   "metadata": {},
   "outputs": [],
   "source": [
    "x_test = np.asarray(x_crops, dtype=np.float32)/255\n",
    "print(x_test.shape)"
   ]
  },
  {
   "cell_type": "code",
   "execution_count": null,
   "metadata": {
    "scrolled": true
   },
   "outputs": [],
   "source": [
    "x_test[0]"
   ]
  },
  {
   "cell_type": "code",
   "execution_count": null,
   "metadata": {},
   "outputs": [],
   "source": []
  },
  {
   "cell_type": "code",
   "execution_count": null,
   "metadata": {},
   "outputs": [],
   "source": []
  },
  {
   "cell_type": "code",
   "execution_count": null,
   "metadata": {
    "ExecuteTime": {
     "end_time": "2019-04-24T20:06:51.355043Z",
     "start_time": "2019-04-24T20:06:51.348009Z"
    }
   },
   "outputs": [],
   "source": [
    "# masks = glob.glob(\"../input/seg/*.png\")\n",
    "masks_test = glob.glob(\"../input/seg/*.png\")\n",
    "# orgs = list(map(lambda x: x.replace(\".png\", \".jpg\"), masks))\n",
    "orgs_test = list(map(lambda x: x.replace(\".png\", \".jpg\"), masks_test))"
   ]
  },
  {
   "cell_type": "code",
   "execution_count": null,
   "metadata": {},
   "outputs": [],
   "source": [
    "# imgs_test_list = []\n",
    "# imgs_test_list.append(np.array(Image.open(\"../input/seg/test01/277.jpg\").resize((384,384))))"
   ]
  },
  {
   "cell_type": "code",
   "execution_count": null,
   "metadata": {},
   "outputs": [],
   "source": [
    "# imgs_test_np = np.asarray(imgs_test_list)"
   ]
  },
  {
   "cell_type": "code",
   "execution_count": null,
   "metadata": {},
   "outputs": [],
   "source": [
    "# x_test = np.asarray(imgs_test_np, dtype=np.float32)/255"
   ]
  },
  {
   "cell_type": "code",
   "execution_count": null,
   "metadata": {},
   "outputs": [],
   "source": [
    "# print(imgs_test_np.shape)"
   ]
  },
  {
   "cell_type": "code",
   "execution_count": null,
   "metadata": {
    "ExecuteTime": {
     "end_time": "2019-04-24T20:06:52.872010Z",
     "start_time": "2019-04-24T20:06:51.357026Z"
    }
   },
   "outputs": [],
   "source": [
    "# imgs_list = []\n",
    "# masks_list = []\n",
    "imgs_test_list = []\n",
    "masks_test_list = []\n",
    "# for image, mask in zip(orgs, masks):\n",
    "#     imgs_list.append(np.array(Image.open(image).resize((384,384))))\n",
    "#     masks_list.append(np.array(Image.open(mask).resize((384,384))))\n",
    "    \n",
    "for image, mask in zip(orgs_test, masks_test):\n",
    "    imgs_test_list.append(np.array(Image.open(image).resize((384,384))))\n",
    "    masks_test_list.append(np.array(Image.open(mask).resize((384,384))))\n",
    "\n",
    "# imgs_np = np.asarray(imgs_list)\n",
    "# masks_np = np.asarray(masks_list)\n",
    "imgs_test_np = np.asarray(imgs_test_list)\n",
    "masks_test_np = np.asarray(masks_test_list)"
   ]
  },
  {
   "cell_type": "code",
   "execution_count": null,
   "metadata": {
    "ExecuteTime": {
     "end_time": "2019-04-24T20:06:52.882005Z",
     "start_time": "2019-04-24T20:06:52.874007Z"
    }
   },
   "outputs": [],
   "source": [
    "# print(imgs_np.shape, masks_np.shape, imgs_test_np.shape, masks_test_np.shape)\n",
    "print(imgs_test_np.shape, masks_test_np.shape)"
   ]
  },
  {
   "cell_type": "markdown",
   "metadata": {},
   "source": [
    "## Plot images + masks + overlay (mask over original)"
   ]
  },
  {
   "cell_type": "code",
   "execution_count": null,
   "metadata": {
    "ExecuteTime": {
     "end_time": "2019-04-24T20:06:58.068997Z",
     "start_time": "2019-04-24T20:06:52.891006Z"
    },
    "scrolled": true
   },
   "outputs": [],
   "source": [
    "from keras_unet.utils import plot_imgs\n",
    "\n",
    "# plot_imgs(org_imgs=imgs_np, mask_imgs=masks_np, nm_img_to_plot=10, figsize=6)\n",
    "plot_imgs(org_imgs=imgs_test_np, mask_imgs=masks_test_np, nm_img_to_plot=10, figsize=6)"
   ]
  },
  {
   "cell_type": "markdown",
   "metadata": {},
   "source": [
    "## Get data into correct shape, dtype and range (0.0-1.0)"
   ]
  },
  {
   "cell_type": "code",
   "execution_count": null,
   "metadata": {
    "ExecuteTime": {
     "end_time": "2019-04-24T20:06:58.169009Z",
     "start_time": "2019-04-24T20:06:58.071983Z"
    }
   },
   "outputs": [],
   "source": [
    "# print(imgs_np.max(), masks_np.max())\n",
    "print(imgs_test_np.max(), masks_test_np.max())"
   ]
  },
  {
   "cell_type": "code",
   "execution_count": null,
   "metadata": {
    "ExecuteTime": {
     "end_time": "2019-04-24T20:06:58.527994Z",
     "start_time": "2019-04-24T20:06:58.171020Z"
    }
   },
   "outputs": [],
   "source": [
    "# x = np.asarray(imgs_np, dtype=np.float32)/255\n",
    "# y = np.asarray(masks_np, dtype=np.float32)\n",
    "x_test = np.asarray(imgs_test_np, dtype=np.float32)/255\n",
    "y_test = np.asarray(masks_test_np, dtype=np.float32)"
   ]
  },
  {
   "cell_type": "code",
   "execution_count": null,
   "metadata": {
    "ExecuteTime": {
     "end_time": "2019-04-24T20:06:58.565978Z",
     "start_time": "2019-04-24T20:06:58.529984Z"
    }
   },
   "outputs": [],
   "source": [
    "# print(x.max(), y.max())\n",
    "print(x_test.max(), y_test.max())"
   ]
  },
  {
   "cell_type": "code",
   "execution_count": null,
   "metadata": {
    "ExecuteTime": {
     "end_time": "2019-04-24T20:06:58.572980Z",
     "start_time": "2019-04-24T20:06:58.568981Z"
    }
   },
   "outputs": [],
   "source": [
    "# print(x.shape, y.shape)\n",
    "print(x_test.shape, y_test.shape)"
   ]
  },
  {
   "cell_type": "code",
   "execution_count": null,
   "metadata": {
    "ExecuteTime": {
     "end_time": "2019-04-24T20:06:58.584980Z",
     "start_time": "2019-04-24T20:06:58.575982Z"
    },
    "scrolled": true
   },
   "outputs": [],
   "source": [
    "# y = y.reshape(y.shape[0], y.shape[1], y.shape[2], 1)\n",
    "# print(x.shape, y.shape)\n",
    "y_test = y_test.reshape(y_test.shape[0], y_test.shape[1], y_test.shape[2], 1)\n",
    "print(x_test.shape, y_test.shape)"
   ]
  },
  {
   "cell_type": "markdown",
   "metadata": {},
   "source": [
    "##  Train/val split"
   ]
  },
  {
   "cell_type": "code",
   "execution_count": null,
   "metadata": {
    "ExecuteTime": {
     "end_time": "2019-04-24T20:07:00.304347Z",
     "start_time": "2019-04-24T20:06:58.587978Z"
    },
    "scrolled": true
   },
   "outputs": [],
   "source": [
    "from sklearn.model_selection import train_test_split\n",
    "\n",
    "x_train, x_val, y_train, y_val = train_test_split(x, y, test_size=0.2, random_state=0)\n",
    "\n",
    "print(\"x_train: \", x_train.shape)\n",
    "print(\"y_train: \", y_train.shape)\n",
    "print(\"x_val: \", x_val.shape)\n",
    "print(\"y_val: \", y_val.shape)"
   ]
  },
  {
   "cell_type": "markdown",
   "metadata": {},
   "source": [
    "## Prepare train generator with data augmentation"
   ]
  },
  {
   "cell_type": "code",
   "execution_count": null,
   "metadata": {
    "ExecuteTime": {
     "end_time": "2019-04-24T20:07:02.643219Z",
     "start_time": "2019-04-24T20:07:01.507219Z"
    }
   },
   "outputs": [],
   "source": [
    "from keras_unet.utils import get_augmented\n",
    "\n",
    "train_gen = get_augmented(\n",
    "    x_train, y_train, batch_size=2,\n",
    "    data_gen_args = dict(\n",
    "        rotation_range=5.,\n",
    "        width_shift_range=0.05,\n",
    "        height_shift_range=0.05,\n",
    "        shear_range=40,\n",
    "        zoom_range=0.2,\n",
    "        horizontal_flip=True,\n",
    "        vertical_flip=False,\n",
    "        fill_mode='constant'\n",
    "    ))"
   ]
  },
  {
   "cell_type": "code",
   "execution_count": null,
   "metadata": {
    "ExecuteTime": {
     "end_time": "2019-04-24T20:07:03.399669Z",
     "start_time": "2019-04-24T20:07:02.646222Z"
    },
    "scrolled": true
   },
   "outputs": [],
   "source": [
    "sample_batch = next(train_gen)\n",
    "xx, yy = sample_batch\n",
    "print(xx.shape, yy.shape)\n",
    "from keras_unet.utils import plot_imgs\n",
    "\n",
    "plot_imgs(org_imgs=xx, mask_imgs=yy, nm_img_to_plot=2, figsize=6)"
   ]
  },
  {
   "cell_type": "markdown",
   "metadata": {},
   "source": [
    "## Initialize network"
   ]
  },
  {
   "cell_type": "code",
   "execution_count": null,
   "metadata": {
    "ExecuteTime": {
     "end_time": "2019-04-24T20:56:59.894564Z",
     "start_time": "2019-04-24T20:56:56.931239Z"
    },
    "scrolled": true
   },
   "outputs": [],
   "source": [
    "from keras_unet.models import custom_unet\n",
    "\n",
    "input_shape = x_train[0].shape\n",
    "\n",
    "model = custom_unet(\n",
    "    input_shape,\n",
    "    filters=32,\n",
    "    use_batch_norm=True,\n",
    "    dropout=0.3,\n",
    "    dropout_change_per_layer=0.0,\n",
    "    num_layers=4\n",
    ")"
   ]
  },
  {
   "cell_type": "code",
   "execution_count": null,
   "metadata": {
    "ExecuteTime": {
     "end_time": "2019-04-24T20:56:59.915566Z",
     "start_time": "2019-04-24T20:56:59.898573Z"
    },
    "scrolled": true
   },
   "outputs": [],
   "source": [
    "model.summary()"
   ]
  },
  {
   "cell_type": "markdown",
   "metadata": {},
   "source": [
    "## Compile + train"
   ]
  },
  {
   "cell_type": "code",
   "execution_count": null,
   "metadata": {
    "ExecuteTime": {
     "end_time": "2019-04-24T20:08:48.352010Z",
     "start_time": "2019-04-24T20:08:48.348997Z"
    }
   },
   "outputs": [],
   "source": [
    "from keras.callbacks import ModelCheckpoint\n",
    "\n",
    "\n",
    "model_filename = 'seg_model_v3.h5'\n",
    "callback_checkpoint = ModelCheckpoint(\n",
    "    model_filename, \n",
    "    verbose=1, \n",
    "    monitor='val_loss', \n",
    "    save_best_only=True,\n",
    ")"
   ]
  },
  {
   "cell_type": "code",
   "execution_count": null,
   "metadata": {
    "ExecuteTime": {
     "end_time": "2019-04-24T20:09:05.340514Z",
     "start_time": "2019-04-24T20:09:05.276501Z"
    },
    "scrolled": true
   },
   "outputs": [],
   "source": [
    "from keras.optimizers import Adam, SGD\n",
    "from keras_unet.metrics import iou, iou_thresholded\n",
    "from keras_unet.losses import jaccard_distance\n",
    "\n",
    "model.compile(\n",
    "    optimizer=Adam(), \n",
    "    #optimizer=SGD(lr=0.01, momentum=0.99),\n",
    "    loss='binary_crossentropy',\n",
    "    #loss=jaccard_distance,\n",
    "    metrics=[iou, iou_thresholded]\n",
    ")\n"
   ]
  },
  {
   "cell_type": "code",
   "execution_count": null,
   "metadata": {
    "ExecuteTime": {
     "end_time": "2019-04-24T20:55:39.245275Z",
     "start_time": "2019-04-24T20:09:06.214572Z"
    },
    "scrolled": true
   },
   "outputs": [],
   "source": [
    "history = model.fit_generator(\n",
    "    train_gen,\n",
    "    steps_per_epoch=200,\n",
    "    epochs=50,\n",
    "    \n",
    "    validation_data=(x_val, y_val),\n",
    "    callbacks=[callback_checkpoint]\n",
    ")"
   ]
  },
  {
   "cell_type": "markdown",
   "metadata": {},
   "source": [
    "## Plot training history"
   ]
  },
  {
   "cell_type": "code",
   "execution_count": null,
   "metadata": {
    "ExecuteTime": {
     "end_time": "2019-04-24T20:55:45.737646Z",
     "start_time": "2019-04-24T20:55:45.055406Z"
    },
    "scrolled": false
   },
   "outputs": [],
   "source": [
    "from keras_unet.utils import plot_segm_history\n",
    "\n",
    "plot_segm_history(history)"
   ]
  },
  {
   "cell_type": "markdown",
   "metadata": {},
   "source": [
    "## Plot original + ground truth + pred + overlay (pred on top of original)"
   ]
  },
  {
   "cell_type": "code",
   "execution_count": null,
   "metadata": {
    "ExecuteTime": {
     "end_time": "2019-04-24T20:56:02.014413Z",
     "start_time": "2019-04-24T20:55:51.834340Z"
    },
    "scrolled": false
   },
   "outputs": [],
   "source": [
    "from keras.models import load_model\n",
    "from keras_unet.metrics import iou, iou_thresholded\n",
    "weights_path = os.path.join(\"../notebooks\", \"seg_model_v3_1024.h5\")\n",
    "model = load_model(weights_path, custom_objects={\"iou\":iou,\"iou_thresholded\":iou_thresholded})\n",
    "# model.load_weights(model_filename)\n",
    "y_test_pred = model.predict(x_test[0:2])"
   ]
  },
  {
   "cell_type": "code",
   "execution_count": null,
   "metadata": {
    "ExecuteTime": {
     "end_time": "2019-04-24T20:56:06.176412Z",
     "start_time": "2019-04-24T20:56:03.305419Z"
    },
    "scrolled": false
   },
   "outputs": [],
   "source": [
    "from keras_unet.utils import plot_imgs\n",
    "\n",
    "plot_imgs(org_imgs=x_test, mask_imgs=y_test, pred_imgs=y_test_pred, nm_img_to_plot=10)"
   ]
  },
  {
   "cell_type": "code",
   "execution_count": null,
   "metadata": {
    "scrolled": true
   },
   "outputs": [],
   "source": [
    "plt.imshow(y_test_pred[0,:,:,0])"
   ]
  },
  {
   "cell_type": "code",
   "execution_count": null,
   "metadata": {
    "scrolled": false
   },
   "outputs": [],
   "source": [
    "import cv2\n",
    "\n",
    "for i in range(y_test_pred.shape[0]):\n",
    "    for j in range(y_test_pred[i].shape[0]):\n",
    "        for k in range(y_test_pred[i].shape[1]):\n",
    "            if y_test_pred[i,j,k] > 0.1:\n",
    "                y_test_pred[i,j,k] = 255\n",
    "           \n",
    "            else:\n",
    "                y_test_pred[i,j,k] = 0\n",
    "      \n",
    "    plt.imshow(y_test_pred[i,:,:,0])"
   ]
  },
  {
   "cell_type": "code",
   "execution_count": null,
   "metadata": {
    "scrolled": true
   },
   "outputs": [],
   "source": [
    "y_test_pred = y_test_pred.astype(np.uint8)\n",
    "y_test_pred.shape"
   ]
  },
  {
   "cell_type": "code",
   "execution_count": null,
   "metadata": {
    "scrolled": false
   },
   "outputs": [],
   "source": [
    "import cv2\n",
    "\n",
    "for j in range(y_test_pred.shape[0]):\n",
    "    \n",
    "    img =y_test_pred[j].astype(np.uint8)\n",
    "    # imgray = cv2.cvtColor(img,cv2.COLOR_GRAY2GRAY)\n",
    "    ret, thresh = cv2.threshold(img[:,:,0],127,255,0)\n",
    "    image, contours, hierachy = cv2.findContours(thresh, cv2.RETR_TREE, cv2.CHAIN_APPROX_NONE)\n",
    "\n",
    "    area_list = []\n",
    "    mean_value = []\n",
    "    k=0\n",
    "    for i in range(len(contours)):\n",
    "        if len(contours[i]) > 1 and cv2.contourArea(contours[i]) > 100:\n",
    "            area_list.append(cv2.contourArea(contours[i]))\n",
    "            x0, y0 = zip(*np.squeeze(contours[i]))\n",
    "            x0_mean =np.mean(x0)\n",
    "            y0_mean =np.mean(y0)\n",
    "            plt.plot(x0, y0, c=\"b\")\n",
    "            k+=1\n",
    "            plt.plot(x0_mean, y0_mean, marker='$%d$'%k, markersize=10)\n",
    "            print('ID = %d'%k, 'Area = %.2f'%cv2.contourArea(contours[i]), int(cv2.contourArea(contours[i])))\n",
    "            \n",
    "#             h = y_test_pred[j].shape[0]\n",
    "#             w = y_test_pred[j].shape[1]\n",
    "#             zeros = np.zeros((h, w))\n",
    "#             zeros[x0, y0] = 255\n",
    "\n",
    "#             ones = zeros\n",
    "#             zeros = np.zeros((h, w))\n",
    "#             new_ = np.stack((ones, zeros, zeros, ones), axis=-1)\n",
    "#             plt.imshow(new_)\n",
    "\n",
    "\n",
    "    h = y_test_pred[j].shape[0]\n",
    "    w = y_test_pred[j].shape[1]\n",
    "    zeros = np.zeros((h, w))\n",
    "    ones = y_test_pred[j].reshape(h, w)\n",
    "    new = np.stack((ones, zeros, zeros, ones), axis=-1)\n",
    "\n",
    "    plt.imshow(imgs_test_np[j,:,:])\n",
    "    plt.imshow(new, alpha=0.3)\n",
    "\n",
    "#     plt.imshow(y_test_pred[j,:,:,0])\n",
    "    plt.xlim(0, 384)\n",
    "    plt.ylim(384, 0)\n",
    "    plt.show()\n",
    "#     plt.savefig('test_%d.png'%j, dpi = 300)\n",
    "    plt.clf()"
   ]
  },
  {
   "cell_type": "code",
   "execution_count": null,
   "metadata": {
    "scrolled": true
   },
   "outputs": [],
   "source": [
    "len(cont)"
   ]
  },
  {
   "cell_type": "code",
   "execution_count": null,
   "metadata": {
    "scrolled": true
   },
   "outputs": [],
   "source": [
    "plt.plot(cont[1][0],cont[1][1], c=\"b\")"
   ]
  },
  {
   "cell_type": "code",
   "execution_count": null,
   "metadata": {},
   "outputs": [],
   "source": [
    "h = y_test_pred[j].shape[0]\n",
    "w = y_test_pred[j].shape[1]\n",
    "zeros = np.zeros((h, w))\n",
    "zeros[x0, y0] = 255\n",
    "\n",
    "ones = zeros\n",
    "zeros = np.zeros((h, w))\n",
    "new_ = np.stack((ones, zeros, zeros, ones), axis=-1)\n",
    "plt.imshow(new_)"
   ]
  },
  {
   "cell_type": "code",
   "execution_count": null,
   "metadata": {},
   "outputs": [],
   "source": [
    "# plt.imshow(imgs_test_np[0,:,:])\n",
    "for i in range(len(contours)):\n",
    "    if len(contours[i]) > 1 and cv2.contourArea(contours[i]) > 100:\n",
    "        area_list.append(cv2.contourArea(contours[i]))\n",
    "        x0, y0 = zip(*np.squeeze(contours[i]))\n",
    "#             plt.plot(x0, y0, c=\"b\")\n",
    "\n",
    "        h = y_test_pred[j].shape[0]\n",
    "        w = y_test_pred[j].shape[1]\n",
    "        zeros = np.zeros((h, w))\n",
    "        zeros[x0, y0] = 255\n",
    "\n",
    "        ones = zeros\n",
    "        zeros = np.zeros((h, w))\n",
    "        new_ = np.stack((ones, zeros, zeros, ones), axis=0)\n",
    "        plt.imshow(new_)\n"
   ]
  },
  {
   "cell_type": "code",
   "execution_count": null,
   "metadata": {},
   "outputs": [],
   "source": [
    "plt.imshow(imgs_test_np[0,:,:])"
   ]
  },
  {
   "cell_type": "code",
   "execution_count": null,
   "metadata": {},
   "outputs": [],
   "source": [
    "plt.imshow(new_)"
   ]
  },
  {
   "cell_type": "code",
   "execution_count": null,
   "metadata": {},
   "outputs": [],
   "source": []
  },
  {
   "cell_type": "code",
   "execution_count": null,
   "metadata": {},
   "outputs": [],
   "source": []
  },
  {
   "cell_type": "code",
   "execution_count": null,
   "metadata": {},
   "outputs": [],
   "source": []
  },
  {
   "cell_type": "code",
   "execution_count": null,
   "metadata": {},
   "outputs": [],
   "source": [
    "from skimage import io\n",
    "width = 500\n",
    "height = 500\n",
    "bpp = 3\n",
    "\n",
    "img = np.zeros((height, width, bpp), np.uint8)\n",
    "\n",
    "\n",
    "# test1 = cv.rectangle(img, (50, 50),  (450, 450), (0, 0, 255), 3)\n",
    "\n",
    "test2 = cv2.rectangle(img, (150, 200), (250, 300), (255, 255, 255), -1)\n",
    "test2 = cv2.line(img, (20, 80), (120, 180), (255, 255, 255))\n",
    "test2 = cv2.line(img, (20, 80), (20, 180), (255, 255, 255))\n",
    "test2 = cv2.line(img, (20, 180), (120, 180), (255, 255, 255))\n",
    "print(test2.shape)\n",
    "io.imsave('test.png',test2)\n",
    "io.imshow(test2)"
   ]
  },
  {
   "cell_type": "code",
   "execution_count": null,
   "metadata": {},
   "outputs": [],
   "source": [
    "img = io.imread('test.png')\n",
    "print(img.shape)\n",
    "ret, thresh = cv2.threshold(img[:,:,0],127,255,0)\n",
    "image, contours, hierachy = cv2.findContours(thresh, cv2.RETR_TREE, cv2.CHAIN_APPROX_NONE)"
   ]
  },
  {
   "cell_type": "code",
   "execution_count": null,
   "metadata": {},
   "outputs": [],
   "source": [
    "print(cv2.contourArea(contours[0]))\n",
    "x0, y0 = zip(*np.squeeze(contours[0]))\n",
    "plt.plot(x0, y0, c=\"b\")"
   ]
  },
  {
   "cell_type": "code",
   "execution_count": null,
   "metadata": {},
   "outputs": [],
   "source": [
    "print(cv2.contourArea(contours[1]))\n",
    "x0, y0 = zip(*np.squeeze(contours[1]))\n",
    "plt.plot(x0, y0, c=\"b\")"
   ]
  },
  {
   "cell_type": "code",
   "execution_count": null,
   "metadata": {},
   "outputs": [],
   "source": []
  }
 ],
 "metadata": {
  "kernelspec": {
   "display_name": "Environment (conda_tensorflow_p36)",
   "language": "python",
   "name": "conda_tensorflow_p36"
  },
  "language_info": {
   "codemirror_mode": {
    "name": "ipython",
    "version": 3
   },
   "file_extension": ".py",
   "mimetype": "text/x-python",
   "name": "python",
   "nbconvert_exporter": "python",
   "pygments_lexer": "ipython3",
   "version": "3.6.5"
  }
 },
 "nbformat": 4,
 "nbformat_minor": 2
}
